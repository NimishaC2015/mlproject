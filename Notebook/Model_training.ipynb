{
 "cells": [
  {
   "cell_type": "markdown",
   "id": "6b33951c",
   "metadata": {},
   "source": [
    "## Model Training"
   ]
  },
  {
   "cell_type": "markdown",
   "id": "70d9813d",
   "metadata": {},
   "source": [
    "#### 1.2 Important data and required packages"
   ]
  },
  {
   "cell_type": "code",
   "execution_count": 51,
   "id": "cb9d978f",
   "metadata": {},
   "outputs": [],
   "source": [
    "# basic import\n",
    "import numpy as np\n",
    "import pandas as pd\n",
    "import seaborn as sns\n",
    "import matplotlib.pyplot as plt\n",
    "\n",
    "#Modelling\n",
    "from sklearn.metrics import mean_squared_error,r2_score,mean_absolute_error\n",
    "from sklearn.neighbors import KNeighborsRegressor\n",
    "from sklearn.tree import DecisionTreeRegressor\n",
    "from sklearn.ensemble import RandomForestRegressor,AdaBoostRegressor\n",
    "from sklearn.svm import SVR\n",
    "from sklearn.linear_model import LinearRegression,Lasso,Ridge\n",
    "from sklearn.model_selection import RandomizedSearchCV,GridSearchCV\n",
    "import warnings\n",
    "warnings.filterwarnings(\"ignore\")"
   ]
  },
  {
   "cell_type": "markdown",
   "id": "61081189",
   "metadata": {},
   "source": [
    "###### import CSV data as the panda dataframe"
   ]
  },
  {
   "cell_type": "code",
   "execution_count": 17,
   "id": "20f40983",
   "metadata": {},
   "outputs": [],
   "source": [
    "df=pd.read_csv(\"data\\stud.csv\")"
   ]
  },
  {
   "cell_type": "markdown",
   "id": "86bf012e",
   "metadata": {},
   "source": [
    "##### show top 5 recordas"
   ]
  },
  {
   "cell_type": "code",
   "execution_count": 19,
   "id": "2d89d28a",
   "metadata": {},
   "outputs": [
    {
     "data": {
      "text/html": [
       "<div>\n",
       "<style scoped>\n",
       "    .dataframe tbody tr th:only-of-type {\n",
       "        vertical-align: middle;\n",
       "    }\n",
       "\n",
       "    .dataframe tbody tr th {\n",
       "        vertical-align: top;\n",
       "    }\n",
       "\n",
       "    .dataframe thead th {\n",
       "        text-align: right;\n",
       "    }\n",
       "</style>\n",
       "<table border=\"1\" class=\"dataframe\">\n",
       "  <thead>\n",
       "    <tr style=\"text-align: right;\">\n",
       "      <th></th>\n",
       "      <th>gender</th>\n",
       "      <th>race_ethnicity</th>\n",
       "      <th>parental_level_of_education</th>\n",
       "      <th>lunch</th>\n",
       "      <th>test_preparation_course</th>\n",
       "      <th>math_score</th>\n",
       "      <th>reading_score</th>\n",
       "      <th>writing_score</th>\n",
       "    </tr>\n",
       "  </thead>\n",
       "  <tbody>\n",
       "    <tr>\n",
       "      <th>0</th>\n",
       "      <td>female</td>\n",
       "      <td>group B</td>\n",
       "      <td>bachelor's degree</td>\n",
       "      <td>standard</td>\n",
       "      <td>none</td>\n",
       "      <td>72</td>\n",
       "      <td>72</td>\n",
       "      <td>74</td>\n",
       "    </tr>\n",
       "    <tr>\n",
       "      <th>1</th>\n",
       "      <td>female</td>\n",
       "      <td>group C</td>\n",
       "      <td>some college</td>\n",
       "      <td>standard</td>\n",
       "      <td>completed</td>\n",
       "      <td>69</td>\n",
       "      <td>90</td>\n",
       "      <td>88</td>\n",
       "    </tr>\n",
       "    <tr>\n",
       "      <th>2</th>\n",
       "      <td>female</td>\n",
       "      <td>group B</td>\n",
       "      <td>master's degree</td>\n",
       "      <td>standard</td>\n",
       "      <td>none</td>\n",
       "      <td>90</td>\n",
       "      <td>95</td>\n",
       "      <td>93</td>\n",
       "    </tr>\n",
       "    <tr>\n",
       "      <th>3</th>\n",
       "      <td>male</td>\n",
       "      <td>group A</td>\n",
       "      <td>associate's degree</td>\n",
       "      <td>free/reduced</td>\n",
       "      <td>none</td>\n",
       "      <td>47</td>\n",
       "      <td>57</td>\n",
       "      <td>44</td>\n",
       "    </tr>\n",
       "    <tr>\n",
       "      <th>4</th>\n",
       "      <td>male</td>\n",
       "      <td>group C</td>\n",
       "      <td>some college</td>\n",
       "      <td>standard</td>\n",
       "      <td>none</td>\n",
       "      <td>76</td>\n",
       "      <td>78</td>\n",
       "      <td>75</td>\n",
       "    </tr>\n",
       "  </tbody>\n",
       "</table>\n",
       "</div>"
      ],
      "text/plain": [
       "   gender race_ethnicity parental_level_of_education         lunch  \\\n",
       "0  female        group B           bachelor's degree      standard   \n",
       "1  female        group C                some college      standard   \n",
       "2  female        group B             master's degree      standard   \n",
       "3    male        group A          associate's degree  free/reduced   \n",
       "4    male        group C                some college      standard   \n",
       "\n",
       "  test_preparation_course  math_score  reading_score  writing_score  \n",
       "0                    none          72             72             74  \n",
       "1               completed          69             90             88  \n",
       "2                    none          90             95             93  \n",
       "3                    none          47             57             44  \n",
       "4                    none          76             78             75  "
      ]
     },
     "execution_count": 19,
     "metadata": {},
     "output_type": "execute_result"
    }
   ],
   "source": [
    "df.head(5)"
   ]
  },
  {
   "cell_type": "markdown",
   "id": "dd308a7d",
   "metadata": {},
   "source": [
    "##### Prepareing X and Y variables"
   ]
  },
  {
   "cell_type": "code",
   "execution_count": 21,
   "id": "07115300",
   "metadata": {},
   "outputs": [
    {
     "data": {
      "text/html": [
       "<div>\n",
       "<style scoped>\n",
       "    .dataframe tbody tr th:only-of-type {\n",
       "        vertical-align: middle;\n",
       "    }\n",
       "\n",
       "    .dataframe tbody tr th {\n",
       "        vertical-align: top;\n",
       "    }\n",
       "\n",
       "    .dataframe thead th {\n",
       "        text-align: right;\n",
       "    }\n",
       "</style>\n",
       "<table border=\"1\" class=\"dataframe\">\n",
       "  <thead>\n",
       "    <tr style=\"text-align: right;\">\n",
       "      <th></th>\n",
       "      <th>gender</th>\n",
       "      <th>race_ethnicity</th>\n",
       "      <th>parental_level_of_education</th>\n",
       "      <th>lunch</th>\n",
       "      <th>test_preparation_course</th>\n",
       "      <th>math_score</th>\n",
       "      <th>reading_score</th>\n",
       "      <th>writing_score</th>\n",
       "      <th>total score</th>\n",
       "      <th>average</th>\n",
       "    </tr>\n",
       "  </thead>\n",
       "  <tbody>\n",
       "    <tr>\n",
       "      <th>0</th>\n",
       "      <td>female</td>\n",
       "      <td>group B</td>\n",
       "      <td>bachelor's degree</td>\n",
       "      <td>standard</td>\n",
       "      <td>none</td>\n",
       "      <td>72</td>\n",
       "      <td>72</td>\n",
       "      <td>74</td>\n",
       "      <td>218</td>\n",
       "      <td>72.666667</td>\n",
       "    </tr>\n",
       "    <tr>\n",
       "      <th>1</th>\n",
       "      <td>female</td>\n",
       "      <td>group C</td>\n",
       "      <td>some college</td>\n",
       "      <td>standard</td>\n",
       "      <td>completed</td>\n",
       "      <td>69</td>\n",
       "      <td>90</td>\n",
       "      <td>88</td>\n",
       "      <td>247</td>\n",
       "      <td>82.333333</td>\n",
       "    </tr>\n",
       "    <tr>\n",
       "      <th>2</th>\n",
       "      <td>female</td>\n",
       "      <td>group B</td>\n",
       "      <td>master's degree</td>\n",
       "      <td>standard</td>\n",
       "      <td>none</td>\n",
       "      <td>90</td>\n",
       "      <td>95</td>\n",
       "      <td>93</td>\n",
       "      <td>278</td>\n",
       "      <td>92.666667</td>\n",
       "    </tr>\n",
       "    <tr>\n",
       "      <th>3</th>\n",
       "      <td>male</td>\n",
       "      <td>group A</td>\n",
       "      <td>associate's degree</td>\n",
       "      <td>free/reduced</td>\n",
       "      <td>none</td>\n",
       "      <td>47</td>\n",
       "      <td>57</td>\n",
       "      <td>44</td>\n",
       "      <td>148</td>\n",
       "      <td>49.333333</td>\n",
       "    </tr>\n",
       "    <tr>\n",
       "      <th>4</th>\n",
       "      <td>male</td>\n",
       "      <td>group C</td>\n",
       "      <td>some college</td>\n",
       "      <td>standard</td>\n",
       "      <td>none</td>\n",
       "      <td>76</td>\n",
       "      <td>78</td>\n",
       "      <td>75</td>\n",
       "      <td>229</td>\n",
       "      <td>76.333333</td>\n",
       "    </tr>\n",
       "  </tbody>\n",
       "</table>\n",
       "</div>"
      ],
      "text/plain": [
       "   gender race_ethnicity parental_level_of_education         lunch  \\\n",
       "0  female        group B           bachelor's degree      standard   \n",
       "1  female        group C                some college      standard   \n",
       "2  female        group B             master's degree      standard   \n",
       "3    male        group A          associate's degree  free/reduced   \n",
       "4    male        group C                some college      standard   \n",
       "\n",
       "  test_preparation_course  math_score  reading_score  writing_score  \\\n",
       "0                    none          72             72             74   \n",
       "1               completed          69             90             88   \n",
       "2                    none          90             95             93   \n",
       "3                    none          47             57             44   \n",
       "4                    none          76             78             75   \n",
       "\n",
       "   total score    average  \n",
       "0          218  72.666667  \n",
       "1          247  82.333333  \n",
       "2          278  92.666667  \n",
       "3          148  49.333333  \n",
       "4          229  76.333333  "
      ]
     },
     "execution_count": 21,
     "metadata": {},
     "output_type": "execute_result"
    }
   ],
   "source": [
    "df['total score'] = df['math_score'] + df['reading_score'] + df['writing_score']\n",
    "df['average'] = df['total score']/3\n",
    "df.head()"
   ]
  },
  {
   "cell_type": "code",
   "execution_count": 22,
   "id": "8772dca0",
   "metadata": {},
   "outputs": [],
   "source": [
    "x=df.drop(columns=[\"average\"],axis=1)\n",
    "y=df[\"average\"]"
   ]
  },
  {
   "cell_type": "code",
   "execution_count": 28,
   "id": "2d0584e9",
   "metadata": {},
   "outputs": [
    {
     "name": "stdout",
     "output_type": "stream",
     "text": [
      "categories in gender column: ['female' 'male']\n",
      "categories in 'race_ethnicity' column: ['group B' 'group C' 'group A' 'group D' 'group E']\n",
      "categories in 'parental_level_of_education' column: [\"bachelor's degree\" 'some college' \"master's degree\" \"associate's degree\"\n",
      " 'high school' 'some high school']\n",
      "lunch: ['standard' 'free/reduced']\n",
      "categories in 'test_preparation_course' column: ['none' 'completed']\n"
     ]
    }
   ],
   "source": [
    "#pring the different categories in different features\n",
    "print(\"categories in gender column:\",end=\" \")\n",
    "print(df[\"gender\"].unique())\n",
    "print(\"categories in 'race_ethnicity' column:\",end=\" \")\n",
    "print(df[\"race_ethnicity\"].unique())\n",
    "print(\"categories in 'parental_level_of_education' column:\",end=\" \")\n",
    "print(df[\"parental_level_of_education\"].unique())\n",
    "print(\"lunch:\",end=\" \")\n",
    "print(df[\"lunch\"].unique())\n",
    "print(\"categories in 'test_preparation_course' column:\",end=\" \")\n",
    "print(df[\"test_preparation_course\"].unique())"
   ]
  },
  {
   "cell_type": "code",
   "execution_count": 36,
   "id": "73d00496",
   "metadata": {},
   "outputs": [],
   "source": [
    "num_feature=x.select_dtypes(exclude=\"object\").columns\n",
    "cat_feature=x.select_dtypes(include=\"object\").columns\n",
    "                           \n",
    "                           \n",
    "from sklearn.preprocessing import OneHotEncoder,StandardScaler\n",
    "from sklearn.compose import ColumnTransformer\n",
    "\n",
    "numeric_transformer=StandardScaler()\n",
    "oh_transformer=OneHotEncoder()\n",
    "\n",
    "preprocessor=ColumnTransformer(\n",
    "[\n",
    "    (\"OneHotEncoder\",oh_transformer,cat_feature),\n",
    "    (\"StandardScaler\",numeric_transformer,num_feature),\n",
    "]\n",
    "\n",
    ")\n",
    "                           "
   ]
  },
  {
   "cell_type": "code",
   "execution_count": 40,
   "id": "2c9f8f86",
   "metadata": {},
   "outputs": [],
   "source": [
    "x=preprocessor.fit_transform(x)"
   ]
  },
  {
   "cell_type": "code",
   "execution_count": 42,
   "id": "825a7362",
   "metadata": {},
   "outputs": [
    {
     "data": {
      "text/plain": [
       "(1000, 21)"
      ]
     },
     "execution_count": 42,
     "metadata": {},
     "output_type": "execute_result"
    }
   ],
   "source": [
    "x.shape"
   ]
  },
  {
   "cell_type": "code",
   "execution_count": 45,
   "id": "2966e8a2",
   "metadata": {},
   "outputs": [
    {
     "name": "stdout",
     "output_type": "stream",
     "text": [
      "(800, 21)\n",
      "(200, 21)\n",
      "(800,)\n",
      "(200,)\n"
     ]
    }
   ],
   "source": [
    "#separate dataset into train and test data\n",
    "from sklearn.model_selection import train_test_split\n",
    "x_train,x_test,y_train,y_test=train_test_split(x,y,test_size=0.2,random_state=42)\n",
    "print(x_train.shape)\n",
    "print(x_test.shape)\n",
    "print(y_train.shape)\n",
    "print(y_test.shape)"
   ]
  },
  {
   "cell_type": "markdown",
   "id": "05bca29d",
   "metadata": {},
   "source": [
    "##### create an evaluate function to give all metrics after model training"
   ]
  },
  {
   "cell_type": "code",
   "execution_count": 46,
   "id": "158d3c71",
   "metadata": {},
   "outputs": [],
   "source": [
    "def evaluate_model(true,predicted):\n",
    "    mae=mean_absolute_error(true,predicted)\n",
    "    mse=mean_squared_error(true,predicted)\n",
    "    rmse=np.sqrt(mse)\n",
    "    r2score=r2_score(true,predicted)\n",
    "    return mae,mse,rmse,r2score"
   ]
  },
  {
   "cell_type": "code",
   "execution_count": 60,
   "id": "05eaf007",
   "metadata": {},
   "outputs": [
    {
     "name": "stdout",
     "output_type": "stream",
     "text": [
      "Linear Regression\n",
      "model performance for the training dataset\n",
      "mean absolute error:1.27675647831893e-14\n",
      "mean squarred error:2.7346652140391597e-28\n",
      "mean absolute error:1.27675647831893e-14\n",
      "r2_score:1.0\n",
      "--------------------------------------\n",
      "model performance for the testing dataset\n",
      "mean absolute error:1.2594369991347776e-14\n",
      "mean squarred error:2.523723807983061e-28\n",
      "mean absolute error:1.2594369991347776e-14\n",
      "r2_score:1.0\n",
      "==================================================\n",
      "Lasso\n",
      "model performance for the training dataset\n",
      "mean absolute error:0.8075024891061073\n",
      "mean squarred error:1.0181431180112792\n",
      "mean absolute error:0.8075024891061073\n",
      "r2_score:0.9948952319583939\n",
      "--------------------------------------\n",
      "model performance for the testing dataset\n",
      "mean absolute error:0.8311744383271829\n",
      "mean squarred error:1.114557814977185\n",
      "mean absolute error:0.8311744383271829\n",
      "r2_score:0.9948006919534692\n",
      "==================================================\n",
      "Ridge\n",
      "model performance for the training dataset\n",
      "mean absolute error:0.004750439675793952\n",
      "mean squarred error:3.4394784687341684e-05\n",
      "mean absolute error:0.004750439675793952\n",
      "r2_score:0.9999998275513584\n",
      "--------------------------------------\n",
      "model performance for the testing dataset\n",
      "mean absolute error:0.0048946311389220475\n",
      "mean squarred error:4.148498783376404e-05\n",
      "mean absolute error:0.0048946311389220475\n",
      "r2_score:0.9999998064764087\n",
      "==================================================\n",
      "K Neighbors Regressor\n",
      "model performance for the training dataset\n",
      "mean absolute error:1.5570000000000004\n",
      "mean squarred error:3.9267444444444455\n",
      "mean absolute error:1.5570000000000004\n",
      "r2_score:0.9803120806957789\n",
      "--------------------------------------\n",
      "model performance for the testing dataset\n",
      "mean absolute error:1.923\n",
      "mean squarred error:7.108022222222221\n",
      "mean absolute error:1.923\n",
      "r2_score:0.9668417406093228\n",
      "==================================================\n",
      "DecisionTree\n",
      "model performance for the training dataset\n",
      "mean absolute error:9.059419880941278e-16\n",
      "mean squarred error:1.0349855076499674e-29\n",
      "mean absolute error:9.059419880941278e-16\n",
      "r2_score:1.0\n",
      "--------------------------------------\n",
      "model performance for the testing dataset\n",
      "mean absolute error:0.0733333333333337\n",
      "mean squarred error:0.4466666666666665\n",
      "mean absolute error:0.0733333333333337\n",
      "r2_score:0.9979163417429677\n",
      "==================================================\n",
      "Random Forest Regressor\n",
      "model performance for the training dataset\n",
      "mean absolute error:0.023458333333347504\n",
      "mean squarred error:0.010956305555555396\n",
      "mean absolute error:0.023458333333347504\n",
      "r2_score:0.9999450672528599\n",
      "--------------------------------------\n",
      "model performance for the testing dataset\n",
      "mean absolute error:0.1100333333333428\n",
      "mean squarred error:0.756368555555554\n",
      "mean absolute error:0.1100333333333428\n",
      "r2_score:0.9964716113743068\n",
      "==================================================\n",
      "AdaBoost Regressor\n",
      "model performance for the training dataset\n",
      "mean absolute error:0.7859282272217796\n",
      "mean squarred error:1.0150397538654152\n",
      "mean absolute error:0.7859282272217796\n",
      "r2_score:0.9949107916118779\n",
      "--------------------------------------\n",
      "model performance for the testing dataset\n",
      "mean absolute error:0.8346005665821384\n",
      "mean squarred error:1.8290302129494278\n",
      "mean absolute error:0.8346005665821384\n",
      "r2_score:0.9914677449875217\n",
      "==================================================\n"
     ]
    }
   ],
   "source": [
    "models={\"Linear Regression\":LinearRegression(),\n",
    "        \"Lasso\":Lasso(),\n",
    "        \"Ridge\":Ridge(),\n",
    "        \"K Neighbors Regressor\":KNeighborsRegressor(),\n",
    "        \"DecisionTree\":DecisionTreeRegressor(),\n",
    "        \"Random Forest Regressor\":RandomForestRegressor(),\n",
    "        \"AdaBoost Regressor\":AdaBoostRegressor()}\n",
    "model_list=[]\n",
    "r2_list=[]\n",
    "\n",
    "for i in range(len(list(models))):\n",
    "    model=list(models.values())[i]\n",
    "    model.fit(x_train,y_train)\n",
    "               \n",
    "    #make prediction\n",
    "    y_train_pred=model.predict(x_train)\n",
    "    y_test_pred=model.predict(x_test)\n",
    "               \n",
    "    #evaluate train and test dataset\n",
    "    model_train_mae,model_train_mse,model_train_rmse,model_train_r2score=evaluate_model(y_train,y_train_pred)\n",
    "    model_test_mae,model_test_mse,model_test_rmse,model_test_r2score=evaluate_model(y_test,y_test_pred) \n",
    "               \n",
    "    print(list(models.keys())[i])\n",
    "    model_list.append(list(models.keys())[i])\n",
    "    print(\"model performance for the training dataset\")\n",
    "    print(f\"mean absolute error:{model_train_mae}\")\n",
    "    print(f\"mean squarred error:{model_train_mse}\")\n",
    "    print(f\"mean absolute error:{model_train_mae}\")\n",
    "    print(f\"r2_score:{model_train_r2score}\")\n",
    "    \n",
    "    print(\"--------------------------------------\")\n",
    "    \n",
    "    print(\"model performance for the testing dataset\")\n",
    "    print(f\"mean absolute error:{model_test_mae}\")\n",
    "    print(f\"mean squarred error:{model_test_mse}\")\n",
    "    print(f\"mean absolute error:{model_test_mae}\")\n",
    "    print(f\"r2_score:{model_test_r2score}\")\n",
    "    r2_list.append(model_test_r2score)\n",
    "    print(\"=\"*50)"
   ]
  },
  {
   "cell_type": "markdown",
   "id": "f6ad869a",
   "metadata": {},
   "source": [
    "##### Result"
   ]
  },
  {
   "cell_type": "code",
   "execution_count": 62,
   "id": "3d3f5b71",
   "metadata": {},
   "outputs": [
    {
     "data": {
      "text/html": [
       "<div>\n",
       "<style scoped>\n",
       "    .dataframe tbody tr th:only-of-type {\n",
       "        vertical-align: middle;\n",
       "    }\n",
       "\n",
       "    .dataframe tbody tr th {\n",
       "        vertical-align: top;\n",
       "    }\n",
       "\n",
       "    .dataframe thead th {\n",
       "        text-align: right;\n",
       "    }\n",
       "</style>\n",
       "<table border=\"1\" class=\"dataframe\">\n",
       "  <thead>\n",
       "    <tr style=\"text-align: right;\">\n",
       "      <th></th>\n",
       "      <th>modl_name</th>\n",
       "      <th>r2_score</th>\n",
       "    </tr>\n",
       "  </thead>\n",
       "  <tbody>\n",
       "    <tr>\n",
       "      <th>0</th>\n",
       "      <td>Linear Regression</td>\n",
       "      <td>1.000000</td>\n",
       "    </tr>\n",
       "    <tr>\n",
       "      <th>2</th>\n",
       "      <td>Ridge</td>\n",
       "      <td>1.000000</td>\n",
       "    </tr>\n",
       "    <tr>\n",
       "      <th>4</th>\n",
       "      <td>DecisionTree</td>\n",
       "      <td>0.997916</td>\n",
       "    </tr>\n",
       "    <tr>\n",
       "      <th>5</th>\n",
       "      <td>Random Forest Regressor</td>\n",
       "      <td>0.996472</td>\n",
       "    </tr>\n",
       "    <tr>\n",
       "      <th>1</th>\n",
       "      <td>Lasso</td>\n",
       "      <td>0.994801</td>\n",
       "    </tr>\n",
       "    <tr>\n",
       "      <th>6</th>\n",
       "      <td>AdaBoost Regressor</td>\n",
       "      <td>0.991468</td>\n",
       "    </tr>\n",
       "    <tr>\n",
       "      <th>3</th>\n",
       "      <td>K Neighbors Regressor</td>\n",
       "      <td>0.966842</td>\n",
       "    </tr>\n",
       "  </tbody>\n",
       "</table>\n",
       "</div>"
      ],
      "text/plain": [
       "                 modl_name  r2_score\n",
       "0        Linear Regression  1.000000\n",
       "2                    Ridge  1.000000\n",
       "4             DecisionTree  0.997916\n",
       "5  Random Forest Regressor  0.996472\n",
       "1                    Lasso  0.994801\n",
       "6       AdaBoost Regressor  0.991468\n",
       "3    K Neighbors Regressor  0.966842"
      ]
     },
     "execution_count": 62,
     "metadata": {},
     "output_type": "execute_result"
    }
   ],
   "source": [
    "pd.DataFrame(list(zip(model_list,r2_list)),columns=[\"modl_name\",\"r2_score\"]).sort_values(by=[\"r2_score\"],ascending=False)"
   ]
  },
  {
   "cell_type": "code",
   "execution_count": null,
   "id": "6d854804",
   "metadata": {},
   "outputs": [],
   "source": [
    "-->decision tree is performing well"
   ]
  },
  {
   "cell_type": "code",
   "execution_count": 69,
   "id": "3f0857b1",
   "metadata": {},
   "outputs": [
    {
     "name": "stdout",
     "output_type": "stream",
     "text": [
      " Accuracy of the model is 99.78\n"
     ]
    }
   ],
   "source": [
    "dt_model =DecisionTreeRegressor()\n",
    "dt_model = dt_model.fit(x_train, y_train)\n",
    "y_pred = dt_model.predict(x_test)\n",
    "score = r2_score(y_test, y_pred)*100\n",
    "print(\" Accuracy of the model is %.2f\"%score)"
   ]
  },
  {
   "cell_type": "markdown",
   "id": "250cce95",
   "metadata": {},
   "source": [
    "##### Plotting y_pred and y_test"
   ]
  },
  {
   "cell_type": "code",
   "execution_count": 72,
   "id": "62385f6a",
   "metadata": {},
   "outputs": [
    {
     "data": {
      "text/plain": [
       "Text(0, 0.5, 'predicted')"
      ]
     },
     "execution_count": 72,
     "metadata": {},
     "output_type": "execute_result"
    },
    {
     "data": {
      "image/png": "[encoded data removed]",
      "text/plain": [
       "<Figure size 432x288 with 1 Axes>"
      ]
     },
     "metadata": {
      "needs_background": "light"
     },
     "output_type": "display_data"
    }
   ],
   "source": [
    "plt.scatter(y_test,y_pred);\n",
    "plt.xlabel(\"actual\")\n",
    "plt.ylabel(\"predicted\")"
   ]
  },
  {
   "cell_type": "code",
   "execution_count": 74,
   "id": "2973ca4c",
   "metadata": {},
   "outputs": [
    {
     "data": {
      "text/plain": [
       "<AxesSubplot:xlabel='average'>"
      ]
     },
     "execution_count": 74,
     "metadata": {},
     "output_type": "execute_result"
    },
    {
     "data": {
      "image/png": "[encoded data removed]",
      "text/plain": [
       "<Figure size 432x288 with 1 Axes>"
      ]
     },
     "metadata": {
      "needs_background": "light"
     },
     "output_type": "display_data"
    }
   ],
   "source": [
    "sns.regplot(x=y_test,y=y_pred,ci=None,color=\"red\")"
   ]
  },
  {
   "cell_type": "code",
   "execution_count": 76,
   "id": "efd3fd9d",
   "metadata": {},
   "outputs": [
    {
     "data": {
      "text/html": [
       "<div>\n",
       "<style scoped>\n",
       "    .dataframe tbody tr th:only-of-type {\n",
       "        vertical-align: middle;\n",
       "    }\n",
       "\n",
       "    .dataframe tbody tr th {\n",
       "        vertical-align: top;\n",
       "    }\n",
       "\n",
       "    .dataframe thead th {\n",
       "        text-align: right;\n",
       "    }\n",
       "</style>\n",
       "<table border=\"1\" class=\"dataframe\">\n",
       "  <thead>\n",
       "    <tr style=\"text-align: right;\">\n",
       "      <th></th>\n",
       "      <th>actual_value</th>\n",
       "      <th>predicted_value</th>\n",
       "      <th>difference</th>\n",
       "    </tr>\n",
       "  </thead>\n",
       "  <tbody>\n",
       "    <tr>\n",
       "      <th>521</th>\n",
       "      <td>87.000000</td>\n",
       "      <td>87.000000</td>\n",
       "      <td>0.0</td>\n",
       "    </tr>\n",
       "    <tr>\n",
       "      <th>737</th>\n",
       "      <td>64.000000</td>\n",
       "      <td>64.000000</td>\n",
       "      <td>0.0</td>\n",
       "    </tr>\n",
       "    <tr>\n",
       "      <th>740</th>\n",
       "      <td>75.000000</td>\n",
       "      <td>75.000000</td>\n",
       "      <td>0.0</td>\n",
       "    </tr>\n",
       "    <tr>\n",
       "      <th>660</th>\n",
       "      <td>74.666667</td>\n",
       "      <td>74.666667</td>\n",
       "      <td>0.0</td>\n",
       "    </tr>\n",
       "    <tr>\n",
       "      <th>411</th>\n",
       "      <td>81.666667</td>\n",
       "      <td>81.666667</td>\n",
       "      <td>0.0</td>\n",
       "    </tr>\n",
       "    <tr>\n",
       "      <th>...</th>\n",
       "      <td>...</td>\n",
       "      <td>...</td>\n",
       "      <td>...</td>\n",
       "    </tr>\n",
       "    <tr>\n",
       "      <th>408</th>\n",
       "      <td>55.000000</td>\n",
       "      <td>55.000000</td>\n",
       "      <td>0.0</td>\n",
       "    </tr>\n",
       "    <tr>\n",
       "      <th>332</th>\n",
       "      <td>57.000000</td>\n",
       "      <td>57.000000</td>\n",
       "      <td>0.0</td>\n",
       "    </tr>\n",
       "    <tr>\n",
       "      <th>208</th>\n",
       "      <td>77.000000</td>\n",
       "      <td>77.000000</td>\n",
       "      <td>0.0</td>\n",
       "    </tr>\n",
       "    <tr>\n",
       "      <th>613</th>\n",
       "      <td>72.000000</td>\n",
       "      <td>72.000000</td>\n",
       "      <td>0.0</td>\n",
       "    </tr>\n",
       "    <tr>\n",
       "      <th>78</th>\n",
       "      <td>69.000000</td>\n",
       "      <td>69.000000</td>\n",
       "      <td>0.0</td>\n",
       "    </tr>\n",
       "  </tbody>\n",
       "</table>\n",
       "<p>200 rows × 3 columns</p>\n",
       "</div>"
      ],
      "text/plain": [
       "     actual_value  predicted_value  difference\n",
       "521     87.000000        87.000000         0.0\n",
       "737     64.000000        64.000000         0.0\n",
       "740     75.000000        75.000000         0.0\n",
       "660     74.666667        74.666667         0.0\n",
       "411     81.666667        81.666667         0.0\n",
       "..            ...              ...         ...\n",
       "408     55.000000        55.000000         0.0\n",
       "332     57.000000        57.000000         0.0\n",
       "208     77.000000        77.000000         0.0\n",
       "613     72.000000        72.000000         0.0\n",
       "78      69.000000        69.000000         0.0\n",
       "\n",
       "[200 rows x 3 columns]"
      ]
     },
     "execution_count": 76,
     "metadata": {},
     "output_type": "execute_result"
    }
   ],
   "source": [
    "pred_df=pd.DataFrame({\"actual_value\":y_test,\"predicted_value\":y_pred,\"difference\":y_test-y_pred})\n",
    "pred_df"
   ]
  },
  {
   "cell_type": "code",
   "execution_count": null,
   "id": "bffd0a6b",
   "metadata": {},
   "outputs": [],
   "source": []
  },
  {
   "cell_type": "code",
   "execution_count": null,
   "id": "725211c3",
   "metadata": {},
   "outputs": [],
   "source": []
  }
 ],
 "metadata": {
  "kernelspec": {
   "display_name": "Python 3 (ipykernel)",
   "language": "python",
   "name": "python3"
  },
  "language_info": {
   "codemirror_mode": {
    "name": "ipython",
    "version": 3
   },
   "file_extension": ".py",
   "mimetype": "text/x-python",
   "name": "python",
   "nbconvert_exporter": "python",
   "pygments_lexer": "ipython3",
   "version": "3.9.12"
  }
 },
 "nbformat": 4,
 "nbformat_minor": 5
}
